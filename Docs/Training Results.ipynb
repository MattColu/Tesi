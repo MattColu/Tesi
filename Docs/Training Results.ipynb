{
 "cells": [
  {
   "cell_type": "code",
   "execution_count": 191,
   "metadata": {},
   "outputs": [],
   "source": [
    "#run_name = \"matteo_?_cumulative*\"\n",
    "#run_name = \"matteo_?laps*\"\n",
    "#run_name = \"rl_trained*\"\n",
    "#run_name = \"matte_8laps_aio\"\n",
    "result_path = \"../Training/results\"\n",
    "training_step_length = 100_000"
   ]
  },
  {
   "cell_type": "code",
   "execution_count": 179,
   "metadata": {},
   "outputs": [],
   "source": [
    "import glob\n",
    "import json\n",
    "import matplotlib.pyplot as plt\n",
    "import os\n",
    "from tensorflow.python.summary.summary_iterator import summary_iterator\n",
    "import numpy as np"
   ]
  },
  {
   "cell_type": "code",
   "execution_count": 198,
   "metadata": {},
   "outputs": [],
   "source": [
    "def generate_plotdict(evallist: list) -> dict:\n",
    "    plotdict = {}\n",
    "    for eval in evallist:\n",
    "        with open(eval) as e:\n",
    "            jdict = json.load(e)\n",
    "            trackName = jdict[\"trackName\"]\n",
    "            if trackName not in plotdict:\n",
    "                plotdict[trackName] = list()\n",
    "            plotdict[trackName].append(jdict[\"result\"])\n",
    "    return plotdict\n",
    "\n",
    "def plot_dict(plotdict: dict, color_dict, artist = None):\n",
    "    if artist == None:\n",
    "        artist = plt.subplot()\n",
    "    if all(len(v) == 1 for v in plotdict.values()):\n",
    "        artist.bar(list(plotdict.keys()), [v[0] for v in plotdict.values()], color=[color_dict[k] for k in plotdict.keys()])\n",
    "    else:\n",
    "        for track in plotdict.keys():\n",
    "            #artist.plot(range(training_step_length, (len(plotdict[track]) + 1) * training_step_length, training_step_length), plotdict[track], label=track, color=color_dict[track])\n",
    "            artist.plot(range(2,11), plotdict[track], label=track, color=color_dict[track])\n",
    "        artist.legend()\n",
    "    artist.set_ylim(0, 1)\n",
    "    artist.set_title(\"Evaluation\")\n",
    "\n",
    "def extract_tfevents(path: str, tag: str = \"Policy/Gail Reward\"):\n",
    "    plotlist = []\n",
    "    tffile = glob.glob(f\"{path}/Kart/events*\")[0]\n",
    "    for e in summary_iterator(tffile):\n",
    "        for v in e.summary.value:\n",
    "            if v.tag == tag:\n",
    "                plotlist.append(v.simple_value)\n",
    "    return plotlist"
   ]
  },
  {
   "cell_type": "markdown",
   "metadata": {},
   "source": [
    "# SUPER EVALUATION-O-MATIC 9000"
   ]
  },
  {
   "cell_type": "code",
   "execution_count": 181,
   "metadata": {},
   "outputs": [],
   "source": [
    "track_list = [\"Square\", \"8\", \"Monza\", \"Spa\", \"Twisty\"]\n",
    "color_list = [f\"C{n}\" for n in range(5)]\n",
    "color_dict = {track_list[n]: color_list[n] for n in range(5)}"
   ]
  },
  {
   "cell_type": "code",
   "execution_count": null,
   "metadata": {},
   "outputs": [],
   "source": [
    "tag = \"Policy/Gail Reward\"\n",
    "\n",
    "for trackN in range(5):\n",
    "    evallist = []\n",
    "    tflist = []\n",
    "    fig, (ax1, ax2) = plt.subplots(1, 2)\n",
    "    \n",
    "    for run in glob.glob(f\"{result_path}/{run_name}_Track{trackN}_*\"):\n",
    "        evallist.append(run + \"/\" + glob.glob(\"evaluation*.json\", root_dir=run)[0])\n",
    "        tflist += extract_tfevents(run, tag)    \n",
    "    \n",
    "    plot_dict(generate_plotdict(evallist), ax2, color_dict)\n",
    "    ax1.plot(np.linspace(1e5, 1e6, len(tflist)), tflist, label= track_list[trackN], color=color_list[trackN])\n",
    "    ax1.legend()\n",
    "    ax1.set_ylim(0, 1000)\n",
    "    ax1.set_title(tag)\n",
    "    fig.suptitle(run_name)\n",
    "    plt.show()"
   ]
  },
  {
   "cell_type": "code",
   "execution_count": null,
   "metadata": {},
   "outputs": [],
   "source": [
    "tag = \"Policy/Gail Reward\"\n",
    "\n",
    "evallist = []\n",
    "ax1 = plt.subplot(223)\n",
    "ax2 = plt.subplot(224)\n",
    "\n",
    "for trackN in range(4):\n",
    "    trackName = track_list[[0, 1, 2, 4][trackN]]\n",
    "    tflist = []\n",
    "\n",
    "    axn = plt.subplot(2, 4, trackN + 1)\n",
    "\n",
    "    for run in glob.glob(f\"{result_path}/{run_name}_{trackN}\"):\n",
    "        evallist.append(run + \"/\" + glob.glob(\"evaluation*.json\", root_dir=run)[0])\n",
    "        tflist += extract_tfevents(run, tag)    \n",
    "    axn.plot(np.linspace(1e5, 1e6, len(tflist)), tflist, label=trackName, color=color_dict[trackName])\n",
    "    axn.legend()\n",
    "    axn.set_ylim(0, 1200)\n",
    "    #axn.set_aspect(1000.0)\n",
    "    #axn.set_title(tag)\n",
    "\n",
    "plotdict = generate_plotdict(evallist)\n",
    "ax1.bar(range(4), plotdict[\"Spa\"], label=\"Spa\", color=color_dict[\"Spa\"])\n",
    "ax2.bar(range(4), plotdict[\"Spa\"], label=\"Spa\", color=color_dict[\"Spa\"])\n",
    "ax1.set_ylim(0, 1)\n",
    "ax2.set_ylim(0.55, 0.75)\n",
    "ax1.legend()\n",
    "#ax1.set_title(\"Evaluation\")\n",
    "\n",
    "ax1.indicate_inset_zoom(ax2)\n",
    "plt.suptitle(run_name)\n",
    "#plt.tight_layout()\n",
    "plt.show()"
   ]
  },
  {
   "cell_type": "markdown",
   "metadata": {},
   "source": [
    "# Evaluation Plot\n",
    "\n",
    "The following cell loads all `evaluation<...>.json` files and plots their values."
   ]
  },
  {
   "cell_type": "code",
   "execution_count": null,
   "metadata": {},
   "outputs": [],
   "source": [
    "evallist = glob.glob(f\"{result_path}/{run_name}/evaluation*.json\")\n",
    "\n",
    "plotdict = generate_plotdict(evallist)\n",
    "\n",
    "plot_dict(plotdict, color_dict=color_dict)\n",
    "\n",
    "plt.show()"
   ]
  },
  {
   "cell_type": "markdown",
   "metadata": {},
   "source": [
    "# Final Evaluation Plot\n",
    "\n",
    "The following cell takes the last elements for each `run_name<...>_N` series of runs and plots their `evaluation<...>.json` files."
   ]
  },
  {
   "cell_type": "code",
   "execution_count": null,
   "metadata": {},
   "outputs": [],
   "source": [
    "all_evaluations = glob.glob(f\"{result_path}/{run_name}/evaluation*.json\")\n",
    "\n",
    "all_runs = list(map(lambda evaljson: os.path.dirname(evaljson), all_evaluations))\n",
    "highest_run_number = max(map(lambda run: run.split('_')[-1], all_runs))\n",
    "all_last_runs = list(filter(lambda run: run.endswith(highest_run_number), all_runs))\n",
    "evallist = list(map(lambda run: os.path.join(run, glob.glob(\"evaluation*.json\", root_dir=run)[0]), all_last_runs))\n",
    "\n",
    "#print(all_last_runs, end=\"\\n\")\n",
    "plotdict = generate_plotdict(evallist)\n",
    "\n",
    "plot_dict(plotdict, color_dict=color_dict)\n",
    "\n",
    "plt.show()"
   ]
  }
 ],
 "metadata": {
  "kernelspec": {
   "display_name": "Python 3",
   "language": "python",
   "name": "python3"
  },
  "language_info": {
   "codemirror_mode": {
    "name": "ipython",
    "version": 3
   },
   "file_extension": ".py",
   "mimetype": "text/x-python",
   "name": "python",
   "nbconvert_exporter": "python",
   "pygments_lexer": "ipython3",
   "version": "3.12.3"
  }
 },
 "nbformat": 4,
 "nbformat_minor": 2
}
