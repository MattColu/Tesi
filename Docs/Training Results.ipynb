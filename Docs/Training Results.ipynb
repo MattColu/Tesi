{
 "cells": [
  {
   "cell_type": "code",
   "execution_count": 30,
   "metadata": {},
   "outputs": [],
   "source": [
    "run_name = \"\"\n",
    "result_path = \"../Training/results\"\n",
    "training_step_length = 10_000"
   ]
  },
  {
   "cell_type": "code",
   "execution_count": 2,
   "metadata": {},
   "outputs": [],
   "source": [
    "import glob\n",
    "import json\n",
    "import matplotlib.pyplot as plt"
   ]
  },
  {
   "cell_type": "markdown",
   "metadata": {},
   "source": [
    "# Evaluation Plot\n",
    "\n",
    "The following cell loads all `evaluation<...>.json` files and plots their values."
   ]
  },
  {
   "cell_type": "code",
   "execution_count": null,
   "metadata": {},
   "outputs": [],
   "source": [
    "evallist = glob.glob(f\"{result_path}/{run_name}*/evaluation*.json\")\n",
    "\n",
    "plotdict = {}\n",
    "for eval in evallist:\n",
    "    with open(eval) as e:\n",
    "        jdict = json.load(e)\n",
    "        trackName = jdict[\"trackName\"]\n",
    "        if trackName not in plotdict:\n",
    "            plotdict[trackName] = list()\n",
    "        plotdict[trackName].append(jdict[\"result\"])\n",
    "\n",
    "for track in plotdict.keys():\n",
    "    plt.plot(range(training_step_length, (len(plotdict[track]) + 1) * training_step_length, training_step_length), plotdict[track], label=track)\n",
    "plt.title(run_name)\n",
    "plt.legend()\n",
    "plt.show()"
   ]
  }
 ],
 "metadata": {
  "kernelspec": {
   "display_name": "Python 3",
   "language": "python",
   "name": "python3"
  },
  "language_info": {
   "codemirror_mode": {
    "name": "ipython",
    "version": 3
   },
   "file_extension": ".py",
   "mimetype": "text/x-python",
   "name": "python",
   "nbconvert_exporter": "python",
   "pygments_lexer": "ipython3",
   "version": "3.10.11"
  }
 },
 "nbformat": 4,
 "nbformat_minor": 2
}
